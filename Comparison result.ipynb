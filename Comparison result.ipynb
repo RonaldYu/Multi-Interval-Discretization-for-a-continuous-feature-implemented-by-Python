{
 "cells": [
  {
   "cell_type": "code",
   "execution_count": 1,
   "metadata": {
    "ExecuteTime": {
     "end_time": "2019-06-23T13:19:49.018256Z",
     "start_time": "2019-06-23T13:19:49.010213Z"
    }
   },
   "outputs": [],
   "source": [
    "import timeit"
   ]
  },
  {
   "cell_type": "markdown",
   "metadata": {},
   "source": [
    "# Result comparison"
   ]
  },
  {
   "cell_type": "code",
   "execution_count": 2,
   "metadata": {
    "ExecuteTime": {
     "end_time": "2019-06-23T13:19:49.349092Z",
     "start_time": "2019-06-23T13:19:49.029881Z"
    }
   },
   "outputs": [],
   "source": [
    "import MDLP\n",
    "import mdlp.discretization\n",
    "import numpy as np\n",
    "\n",
    "x = [139., 139., 139., 139., 1490., 1490., 1490., 32456., 32456., \n",
    "     33444., 33444., 33444., 35666., 35666., 35666., 35666.] * 1000\n",
    "y = [1, 1, 1, 1, 2, 2, 2, 3, 4, 3, 3, 4, 3, 3, 4, 4] * 1000"
   ]
  },
  {
   "cell_type": "code",
   "execution_count": 3,
   "metadata": {
    "ExecuteTime": {
     "end_time": "2019-06-23T13:19:50.752074Z",
     "start_time": "2019-06-23T13:19:49.352643Z"
    }
   },
   "outputs": [
    {
     "name": "stdout",
     "output_type": "stream",
     "text": [
      "mdlp'result:  [  814. 16973. 32456. 35666.]\n"
     ]
    }
   ],
   "source": [
    "mdlpfit = mdlp.discretization.MDLP()\n",
    "mdlpfit.fit(np.array(x).reshape([len(x), -1]), np.array(y))\n",
    "print('mdlp\\'result: ', mdlpfit.cut_points_[0])"
   ]
  },
  {
   "cell_type": "code",
   "execution_count": 4,
   "metadata": {
    "ExecuteTime": {
     "end_time": "2019-06-23T13:19:50.884596Z",
     "start_time": "2019-06-23T13:19:50.756981Z"
    }
   },
   "outputs": [
    {
     "name": "stdout",
     "output_type": "stream",
     "text": [
      "self result:  [814.5, 16973.0, 32950.0, 34555.0]\n"
     ]
    }
   ],
   "source": [
    "cut_index_after_sorted, cut_points = MDLP.DiscretizationMDLP(x, y).get_partition_points()\n",
    "print('self result: ', cut_points)"
   ]
  },
  {
   "cell_type": "markdown",
   "metadata": {},
   "source": [
    "# Performance Comparison"
   ]
  },
  {
   "cell_type": "code",
   "execution_count": 5,
   "metadata": {
    "ExecuteTime": {
     "end_time": "2019-06-23T13:19:50.912067Z",
     "start_time": "2019-06-23T13:19:50.889850Z"
    }
   },
   "outputs": [],
   "source": [
    "setup_str = \"\"\"\n",
    "import MDLP\n",
    "import mdlp.discretization\n",
    "import numpy as np\n",
    "\n",
    "x = [139., 139., 139., 139., 1490., 1490., 1490., 32456., 32456., \n",
    "     33444., 33444., 33444., 35666., 35666., 35666., 35666.] * 1000\n",
    "y = [1, 1, 1, 1, 2, 2, 2, 3, 4, 3, 3, 4, 3, 3, 4, 4] * 1000\n",
    "\"\"\"\n",
    "\n",
    "package_setup = setup_str + \"\"\"\n",
    "\n",
    "x = np.array(x).reshape([len(x), -1])\n",
    "y = np.array(y)\n",
    "\"\"\"\n",
    "\n",
    "\n",
    "package_code = \"\"\"\n",
    "mdlpfit = mdlp.discretization.MDLP()\n",
    "mdlpfit.fit(x, y)\n",
    "\"\"\"\n",
    "\n",
    "self_code = \"\"\"\n",
    "MDLP.DiscretizationMDLP(x, y).get_partition_points()\n",
    "\"\"\""
   ]
  },
  {
   "cell_type": "code",
   "execution_count": 6,
   "metadata": {
    "ExecuteTime": {
     "end_time": "2019-06-23T13:20:52.765161Z",
     "start_time": "2019-06-23T13:19:50.916564Z"
    }
   },
   "outputs": [
    {
     "name": "stdout",
     "output_type": "stream",
     "text": [
      "mdlp-discretization:  61.89633000001777 seconds\n"
     ]
    }
   ],
   "source": [
    "print(\"mdlp-discretization: \", timeit.timeit(package_code,setup=package_setup, number=50), \"seconds\")\n"
   ]
  },
  {
   "cell_type": "code",
   "execution_count": 7,
   "metadata": {
    "ExecuteTime": {
     "end_time": "2019-06-23T13:20:53.774331Z",
     "start_time": "2019-06-23T13:20:52.767798Z"
    }
   },
   "outputs": [
    {
     "name": "stdout",
     "output_type": "stream",
     "text": [
      "Python code:  0.9997087999945506 seconds\n"
     ]
    }
   ],
   "source": [
    "print(\"Python code: \", timeit.timeit(self_code, \n",
    "                                     setup=setup_str, number=50), \"seconds\")"
   ]
  }
 ],
 "metadata": {
  "kernelspec": {
   "display_name": "Python 3",
   "language": "python",
   "name": "python3"
  },
  "language_info": {
   "codemirror_mode": {
    "name": "ipython",
    "version": 3
   },
   "file_extension": ".py",
   "mimetype": "text/x-python",
   "name": "python",
   "nbconvert_exporter": "python",
   "pygments_lexer": "ipython3",
   "version": "3.6.5"
  },
  "toc": {
   "base_numbering": 1,
   "nav_menu": {},
   "number_sections": true,
   "sideBar": true,
   "skip_h1_title": false,
   "title_cell": "Table of Contents",
   "title_sidebar": "Contents",
   "toc_cell": false,
   "toc_position": {},
   "toc_section_display": true,
   "toc_window_display": false
  },
  "varInspector": {
   "cols": {
    "lenName": 16,
    "lenType": 16,
    "lenVar": 40
   },
   "kernels_config": {
    "python": {
     "delete_cmd_postfix": "",
     "delete_cmd_prefix": "del ",
     "library": "var_list.py",
     "varRefreshCmd": "print(var_dic_list())"
    },
    "r": {
     "delete_cmd_postfix": ") ",
     "delete_cmd_prefix": "rm(",
     "library": "var_list.r",
     "varRefreshCmd": "cat(var_dic_list()) "
    }
   },
   "types_to_exclude": [
    "module",
    "function",
    "builtin_function_or_method",
    "instance",
    "_Feature"
   ],
   "window_display": false
  }
 },
 "nbformat": 4,
 "nbformat_minor": 2
}
